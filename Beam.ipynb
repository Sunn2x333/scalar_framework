{
  "nbformat": 4,
  "nbformat_minor": 0,
  "metadata": {
    "colab": {
      "provenance": [],
      "authorship_tag": "ABX9TyMEiTYAke31lgaOMwracgYh",
      "include_colab_link": true
    },
    "kernelspec": {
      "name": "python3",
      "display_name": "Python 3"
    },
    "language_info": {
      "name": "python"
    }
  },
  "cells": [
    {
      "cell_type": "markdown",
      "metadata": {
        "id": "view-in-github",
        "colab_type": "text"
      },
      "source": [
        "<a href=\"https://colab.research.google.com/github/Sunn2x333/scalar_framework/blob/main/Beam.ipynb\" target=\"_parent\"><img src=\"https://colab.research.google.com/assets/colab-badge.svg\" alt=\"Open In Colab\"/></a>"
      ]
    },
    {
      "cell_type": "code",
      "execution_count": null,
      "metadata": {
        "id": "KxGj18mY6D3W",
        "outputId": "5b8015e1-a9e6-41fb-8e95-c19ea212b582",
        "colab": {
          "base_uri": "https://localhost:8080/"
        }
      },
      "outputs": [
        {
          "output_type": "stream",
          "name": "stdout",
          "text": [
            "Exposure Factor | Effective δλ | Apparent τ_n (s)\n",
            "---------------------------------------------\n",
            "       1e+00 |       0.0000 |          888.0\n",
            "       1e+01 |       0.0000 |          888.0\n",
            "       1e+02 |       0.0000 |          888.0\n",
            "       1e+03 |       0.0000 |          888.0\n",
            "       1e+04 |       0.0001 |          887.9\n",
            "       1e+05 |       0.0009 |          887.2\n",
            "       1e+06 |       0.0092 |          879.9\n",
            "       1e+07 |       0.0919 |          813.2\n",
            "\n",
            "UCNτ trap (L=0.7m): δλ=0.0163, τ=873.7 s\n",
            "\n",
            "Exposure factor needed to match trap δλ: 1.8e+06\n"
          ]
        }
      ],
      "source": [
        "import numpy as np\n",
        "\n",
        "# Original parameters\n",
        "Phi_amp = 1e-6\n",
        "k_phi = 0.008 / (Phi_amp**2 * (np.pi/1)**2 / 2)\n",
        "k_m = 0.1\n",
        "B_grad = 5.0\n",
        "B_crit = 1e9\n",
        "tau_beam = 888.0\n",
        "\n",
        "def compute_delta_lambda(L, B_grad=5.0):\n",
        "    \"\"\"Original distortion model\"\"\"\n",
        "    if L == 0:\n",
        "        return 0\n",
        "    grad_sq = (np.pi**2 * Phi_amp**2) / (2 * L**2)\n",
        "    delta_grad = k_phi * grad_sq\n",
        "    delta_magnetic = k_m * (B_grad**2 / B_crit**2)\n",
        "    return delta_grad + delta_magnetic\n",
        "\n",
        "def compute_tau(delta, tau_0=tau_beam):\n",
        "    \"\"\"Lifetime with distortion: τ = τ₀/(1+δλ)\"\"\"\n",
        "    return tau_0 / (1 + delta)\n",
        "\n",
        "def beam_with_induced_wiggling(exposure_factor, L_ref=0.7, tau_0=888.0):\n",
        "    \"\"\"\n",
        "    Simulate beam with artificial wiggling via exposure factor\n",
        "    Effective δλ_beam = δλ_trap × (exposure_time_beam / exposure_time_trap) × f\n",
        "    \"\"\"\n",
        "    # Reference trap distortion\n",
        "    delta_trap = compute_delta_lambda(L_ref, B_grad)\n",
        "\n",
        "    # Nominal beam exposure vs trap exposure\n",
        "    t_beam_nominal = 5e-4  # 0.5 ms transit time\n",
        "    t_trap = tau_0         # ~888s full exposure\n",
        "\n",
        "    # Effective distortion in \"messed\" beam\n",
        "    exposure_ratio = t_beam_nominal / t_trap\n",
        "    delta_beam = delta_trap * exposure_factor * exposure_ratio\n",
        "\n",
        "    tau_beam_mod = tau_0 / (1 + delta_beam)\n",
        "    return delta_beam, tau_beam_mod\n",
        "\n",
        "# Simulate\n",
        "exposure_factors = np.logspace(0, 7, 8)\n",
        "L_trap = 0.7\n",
        "\n",
        "print(\"Exposure Factor | Effective δλ | Apparent τ_n (s)\")\n",
        "print(\"-\" * 45)\n",
        "\n",
        "for f in exposure_factors:\n",
        "    delta, tau = beam_with_induced_wiggling(f, L_trap)\n",
        "    print(f\"{f:>12.0e} | {delta:>12.4f} | {tau:>14.1f}\")\n",
        "\n",
        "# Trap reference\n",
        "delta_ucn = compute_delta_lambda(L_trap)\n",
        "tau_ucn = compute_tau(delta_ucn)\n",
        "print(f\"\\nUCNτ trap (L={L_trap}m): δλ={delta_ucn:.4f}, τ={tau_ucn:.1f} s\")\n",
        "\n",
        "# Find exposure factor needed to match trap effect\n",
        "f_needed = (delta_ucn / compute_delta_lambda(L_trap)) / (5e-4 / 888)\n",
        "print(f\"\\nExposure factor needed to match trap δλ: {f_needed:.1e}\")\n",
        "\n"
      ]
    }
  ]
}